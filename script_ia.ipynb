{
 "cells": [
  {
   "cell_type": "code",
   "execution_count": 61,
   "id": "0f5a2af0",
   "metadata": {},
   "outputs": [],
   "source": [
    "# %%\n",
    "import torch\n",
    "from torch import nn\n",
    "from torchvision import datasets, transforms\n",
    "from torch.utils.data import DataLoader\n",
    "import torch.nn.functional as F\n",
    "from tqdm import tqdm, trange"
   ]
  },
  {
   "cell_type": "code",
   "execution_count": 62,
   "id": "8b45736a",
   "metadata": {},
   "outputs": [
    {
     "name": "stdout",
     "output_type": "stream",
     "text": [
      "Classes : ['Lynx', 'Salamandre', 'Tortue']\n"
     ]
    }
   ],
   "source": [
    "\n",
    "# Détection du périphérique (GPU ou CPU)\n",
    "device = torch.device(\"cuda\" if torch.cuda.is_available() else \"cpu\")\n",
    "\n",
    "# Prétraitement\n",
    "transform = transforms.Compose([\n",
    "    transforms.Resize((128, 128)),\n",
    "    transforms.ToTensor(),\n",
    "    transforms.Normalize([0.485, 0.456, 0.406],\n",
    "                         [0.229, 0.224, 0.225]),\n",
    "])\n",
    "\n",
    "# Données\n",
    "train_data = datasets.ImageFolder(\"data/train\", transform=transform)\n",
    "val_data = datasets.ImageFolder(\"data/val\", transform=transform)\n",
    "\n",
    "train_loader = DataLoader(train_data, batch_size=32, shuffle=True, num_workers=4)\n",
    "val_loader = DataLoader(val_data, batch_size=32, shuffle=False, num_workers=4)\n",
    "\n",
    "# Nombre de classes\n",
    "num_classes = len(train_data.classes)\n",
    "print(\"Classes :\", train_data.classes)\n",
    "\n",
    "# %%\n"
   ]
  },
  {
   "cell_type": "code",
   "execution_count": 63,
   "id": "d52c3567",
   "metadata": {},
   "outputs": [],
   "source": [
    "#train_data_samples = next(iter(train_loader))\n",
    "\n",
    "# train_data_samples"
   ]
  },
  {
   "cell_type": "code",
   "execution_count": 64,
   "id": "cca2aa95",
   "metadata": {},
   "outputs": [],
   "source": [
    "# Définition du CNN\n",
    "class NeuralNetwork(nn.Module):\n",
    "    def __init__(self, num_classes):\n",
    "        super().__init__()\n",
    "        self.conv1 = nn.Conv2d(3, 32, kernel_size=3, padding=1)\n",
    "        self.conv2 = nn.Conv2d(32, 64, kernel_size=3, padding=1)\n",
    "        self.pool = nn.MaxPool2d(2, 2)\n",
    "\n",
    "        self.conv3 = nn.Conv2d(64, 128, kernel_size=3, padding=1)\n",
    "\n",
    "        self.fc1 = nn.Linear(128 * 16 * 16, 256)\n",
    "        self.fc2 = nn.Linear(256, 256)\n",
    "        self.fc3 = nn.Linear(256, num_classes)\n",
    "\n",
    "    def forward(self, x):\n",
    "        x = self.pool(F.relu(self.conv1(x)))  # [32x64x64]\n",
    "        x = self.pool(F.relu(self.conv2(x)))  # [64x32x32]\n",
    "        x = self.pool(F.relu(self.conv3(x)))  # [128x16x16]\n",
    "        x = x.view(x.size(0), -1)             # flatten\n",
    "        x = F.relu(self.fc1(x))\n",
    "        x = F.dropout(x, p=0.2, training=self.training)  # Dropout pour éviter le surapprentissage\n",
    "        x = F.relu(self.fc2(x))\n",
    "        x = F.dropout(x, p=0.2, training=self.training)  # Dropout pour éviter le surapprentissages\n",
    "        x = self.fc3(x)\n",
    "        return x\n",
    "\n",
    "model = NeuralNetwork(num_classes).to(device)\n"
   ]
  },
  {
   "cell_type": "code",
   "execution_count": 65,
   "id": "8ab96058",
   "metadata": {},
   "outputs": [],
   "source": [
    "# %%\n",
    "loss_fn = nn.CrossEntropyLoss()\n",
    "optimizer = torch.optim.Adam(model.parameters(), lr=1e-3)\n",
    "\n",
    "# %%\n"
   ]
  },
  {
   "cell_type": "code",
   "execution_count": 66,
   "id": "6b23590f",
   "metadata": {},
   "outputs": [],
   "source": [
    "def train():\n",
    "    print(\"Training started\")\n",
    "    model.train()\n",
    "    running_loss = 0\n",
    "    for i, (images, labels) in enumerate(train_loader):\n",
    "        images, labels = images.to(device), labels.to(device)\n",
    "        preds = model(images)\n",
    "        loss = loss_fn(preds, labels)\n",
    "\n",
    "        optimizer.zero_grad()\n",
    "        loss.backward()\n",
    "        optimizer.step()\n",
    "        running_loss += loss.item()\n",
    "    print(f\"Train Loss: {running_loss/len(train_loader):.4f}\")\n"
   ]
  },
  {
   "cell_type": "code",
   "execution_count": 67,
   "id": "cbd8e1ff",
   "metadata": {},
   "outputs": [],
   "source": [
    "def validate():\n",
    "    print(\"Validating...\")\n",
    "    model.eval()\n",
    "    total, correct = 0, 0\n",
    "    with torch.no_grad():\n",
    "        for images, labels in val_loader:\n",
    "            images, labels = images.to(device), labels.to(device)\n",
    "            preds = model(images)\n",
    "            correct += (preds.argmax(1) == labels).sum().item()\n",
    "            total += labels.size(0)\n",
    "    acc = 100 * correct / total\n",
    "    print(f\"Validation Accuracy: {acc:.2f}%\")\n",
    "\n",
    "# %%\n"
   ]
  },
  {
   "cell_type": "code",
   "execution_count": 68,
   "id": "da7ce396",
   "metadata": {},
   "outputs": [
    {
     "name": "stderr",
     "output_type": "stream",
     "text": [
      "Epochs:   0%|          | 0/5 [00:00<?, ?it/s]"
     ]
    },
    {
     "name": "stdout",
     "output_type": "stream",
     "text": [
      "\n",
      "Epoch 1\n",
      "Training started\n",
      "Train Loss: 0.0549\n",
      "Validating...\n"
     ]
    },
    {
     "name": "stderr",
     "output_type": "stream",
     "text": [
      "Epochs:  20%|██        | 1/5 [05:30<22:01, 330.37s/it]"
     ]
    },
    {
     "name": "stdout",
     "output_type": "stream",
     "text": [
      "Validation Accuracy: 99.16%\n",
      "\n",
      "Epoch 2\n",
      "Training started\n",
      "Train Loss: 0.0236\n",
      "Validating...\n"
     ]
    },
    {
     "name": "stderr",
     "output_type": "stream",
     "text": [
      "Epochs:  40%|████      | 2/5 [15:08<23:49, 476.36s/it]"
     ]
    },
    {
     "name": "stdout",
     "output_type": "stream",
     "text": [
      "Validation Accuracy: 99.67%\n",
      "\n",
      "Epoch 3\n",
      "Training started\n",
      "Train Loss: 0.0200\n",
      "Validating...\n"
     ]
    },
    {
     "name": "stderr",
     "output_type": "stream",
     "text": [
      "Epochs:  60%|██████    | 3/5 [20:56<13:54, 417.43s/it]"
     ]
    },
    {
     "name": "stdout",
     "output_type": "stream",
     "text": [
      "Validation Accuracy: 99.81%\n",
      "\n",
      "Epoch 4\n",
      "Training started\n",
      "Train Loss: 0.0237\n",
      "Validating...\n"
     ]
    },
    {
     "name": "stderr",
     "output_type": "stream",
     "text": [
      "Epochs:  80%|████████  | 4/5 [26:22<06:21, 381.57s/it]"
     ]
    },
    {
     "name": "stdout",
     "output_type": "stream",
     "text": [
      "Validation Accuracy: 99.72%\n",
      "\n",
      "Epoch 5\n",
      "Training started\n",
      "Train Loss: 0.0193\n",
      "Validating...\n"
     ]
    },
    {
     "name": "stderr",
     "output_type": "stream",
     "text": [
      "Epochs: 100%|██████████| 5/5 [31:55<00:00, 383.02s/it]"
     ]
    },
    {
     "name": "stdout",
     "output_type": "stream",
     "text": [
      "Validation Accuracy: 98.92%\n"
     ]
    },
    {
     "name": "stderr",
     "output_type": "stream",
     "text": [
      "\n"
     ]
    }
   ],
   "source": [
    "# Boucle d'entraînement\n",
    "for epoch in trange(5, desc=\"Epochs\"):\n",
    "    print(f\"\\nEpoch {epoch+1}\")\n",
    "    train()\n",
    "    validate()"
   ]
  },
  {
   "cell_type": "code",
   "execution_count": 69,
   "id": "3562eb26",
   "metadata": {},
   "outputs": [
    {
     "name": "stdout",
     "output_type": "stream",
     "text": [
      "Modèle sauvegardé.\n"
     ]
    }
   ],
   "source": [
    "# %%\n",
    "torch.save(model.state_dict(), \"animal_cnn.pth\")\n",
    "with open(\"animal_classes.txt\", \"w\") as f:\n",
    "    f.write(\"\\n\".join(train_data.classes))\n",
    "print(\"Modèle sauvegardé.\")\n"
   ]
  },
  {
   "cell_type": "code",
   "execution_count": 70,
   "id": "57086918",
   "metadata": {},
   "outputs": [],
   "source": [
    "# from collections import Counter\n",
    "\n",
    "# # Liste des classes\n",
    "# print(\"Classes :\", train_data.classes)\n",
    "\n",
    "# # Répartition des images dans le dossier\n",
    "# labels = [label for _, label in train_data]\n",
    "# counter = Counter(labels)\n",
    "# print(\"Distribution des classes (train) :\")\n",
    "# for idx, count in counter.items():\n",
    "#     print(f\"{train_data.classes[idx]}: {count}\")\n",
    "\n",
    "# val_labels = [label for _, label in val_data]\n",
    "# val_counter = Counter(val_labels)\n",
    "# print(\"Distribution des classes (val) :\")\n",
    "# for idx, count in val_counter.items():\n",
    "#     print(f\"{val_data.classes[idx]}: {count}\")\n",
    "\n"
   ]
  },
  {
   "cell_type": "code",
   "execution_count": 71,
   "id": "e0bc2764",
   "metadata": {},
   "outputs": [
    {
     "name": "stdout",
     "output_type": "stream",
     "text": [
      "[array([[-0.05675411, -0.01766702, -0.041874  ]], dtype=float32)]\n"
     ]
    }
   ],
   "source": [
    "import onnxruntime as ort\n",
    "import numpy as np\n",
    "\n",
    "# exemple input numpy\n",
    "input_np = np.random.rand(1, 3, 128, 128).astype(np.float32)\n",
    "\n",
    "sess = ort.InferenceSession(\"my_model.onnx\")\n",
    "inputs = {sess.get_inputs()[0].name: input_np}\n",
    "outputs = sess.run(None, inputs)\n",
    "print(outputs)\n"
   ]
  },
  {
   "cell_type": "code",
   "execution_count": null,
   "id": "44e68f27",
   "metadata": {},
   "outputs": [],
   "source": [
    "\n",
    "model.eval()\n",
    "\n",
    "# Define dummy input with batch size 1 and correct image size 3x128x128\n",
    "tensor_torch = torch.randn(1, 3, 128, 128)\n",
    "\n",
    "# Export the model\n",
    "torch.onnx.export(\n",
    "    model,\n",
    "    tensor_torch,\n",
    "    \"my_model.onnx\",\n",
    "    input_names = ['input'],\n",
    "    output_names = ['output']\n",
    ")\n",
    "\n"
   ]
  },
  {
   "cell_type": "code",
   "execution_count": null,
   "id": "65d564a9",
   "metadata": {},
   "outputs": [
    {
     "name": "stdout",
     "output_type": "stream",
     "text": [
      "PyTorch output: tensor([[ 6.4333, -6.2365, -0.4407]])\n",
      "ONNX output: [[ 6.433262   -6.2365146  -0.44074833]]\n"
     ]
    }
   ],
   "source": [
    "# DEBUG: Test de l'inférence avec le modèle PyTorch et ONNX\n",
    "\n",
    "from PIL import Image\n",
    "import torch\n",
    "from torchvision import transforms\n",
    "import onnxruntime as ort\n",
    "import numpy as np\n",
    "\n",
    "# Charger ton image de test (la même que sur ton site)\n",
    "image_path = \"save/Lynx/_test.jpg\"\n",
    "image = Image.open(image_path).convert(\"RGB\")  # assure 3 canaux\n",
    "\n",
    "# Appliquer les mêmes transformations que pendant l'entraînement\n",
    "transform = transforms.Compose([\n",
    "    transforms.Resize((128, 128)),                 # même taille\n",
    "    transforms.ToTensor(),                         # [0, 1]\n",
    "    transforms.Normalize(mean=[0.485, 0.456, 0.406],  # même normalisation\n",
    "                         std=[0.229, 0.224, 0.225])\n",
    "])\n",
    "tensor_image = transform(image).unsqueeze(0)  # shape (1, 3, 128, 128)\n",
    "\n",
    "# Faire passer l'image dans ton modèle PyTorch\n",
    "model.eval()\n",
    "with torch.no_grad():\n",
    "    pytorch_output = model(tensor_image)\n",
    "    print(\"PyTorch output:\", pytorch_output)\n",
    "\n",
    "#  Charger le modèle ONNX\n",
    "ort_sess = ort.InferenceSession(\"my_model.onnx\")\n",
    "\n",
    "# Transformer le tensor en numpy pour ONNX\n",
    "input_numpy = tensor_image.numpy().astype(np.float32)\n",
    "\n",
    "# Lancer l'inférence\n",
    "outputs = ort_sess.run(None, {ort_sess.get_inputs()[0].name: input_numpy})\n",
    "\n",
    "print(\"ONNX output:\", outputs[0])\n",
    "\n"
   ]
  }
 ],
 "metadata": {
  "kernelspec": {
   "display_name": ".venv",
   "language": "python",
   "name": "python3"
  },
  "language_info": {
   "codemirror_mode": {
    "name": "ipython",
    "version": 3
   },
   "file_extension": ".py",
   "mimetype": "text/x-python",
   "name": "python",
   "nbconvert_exporter": "python",
   "pygments_lexer": "ipython3",
   "version": "3.12.11"
  }
 },
 "nbformat": 4,
 "nbformat_minor": 5
}
